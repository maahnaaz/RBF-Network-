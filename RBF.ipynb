{
  "nbformat": 4,
  "nbformat_minor": 0,
  "metadata": {
    "colab": {
      "name": "RBF.ipynb",
      "provenance": [],
      "collapsed_sections": []
    },
    "kernelspec": {
      "name": "python3",
      "display_name": "Python 3"
    },
    "language_info": {
      "name": "python"
    }
  },
  "cells": [
    {
      "cell_type": "code",
      "metadata": {
        "id": "fohFvb4J1vbs"
      },
      "source": [
        "import numpy as np\n",
        "import matplotlib as plt\n",
        "import pandas as pd\n",
        "from numpy.random import RandomState\n",
        "import matplotlib.pyplot as plt"
      ],
      "execution_count": null,
      "outputs": []
    },
    {
      "cell_type": "code",
      "metadata": {
        "id": "OAuLzNg816Ul"
      },
      "source": [
        "# Structure of the Network, You can set n, k, and m based on dataset\n",
        "n_neuron = 2\n",
        "m_partner = 1\n",
        "layers_num_neuron = [n , k , m] \n",
        "# number of iteration\n",
        "iter = 500\n",
        "# Learning rate\n",
        "Learning_rate = 0.01\n",
        "All_error = 0"
      ],
      "execution_count": null,
      "outputs": []
    },
    {
      "cell_type": "code",
      "metadata": {
        "id": "lbUrgoOA3has"
      },
      "source": [
        "def guassian(dk, sk):\n",
        "  # Compute the Gaussian Function\n",
        "  return np.exp(( -1*(dk)**2) / (2*(sk)**2) )\n"
      ],
      "execution_count": null,
      "outputs": []
    },
    {
      "cell_type": "code",
      "metadata": {
        "id": "kn0j3S094Fih"
      },
      "source": [
        "def Euclidian(X , C):\n",
        "  # Compute the Euclidian distance\n",
        "  dk = np.linalg.norm(X - C)\n",
        "  return dk\n",
        "   \n"
      ],
      "execution_count": null,
      "outputs": []
    },
    {
      "cell_type": "code",
      "metadata": {
        "id": "w35YQh18-Bsg"
      },
      "source": [
        "def Feedforward(X, c, s, Weights):\n",
        "  # In this function, we compute the output of RBF layer by using guassian function \n",
        "  # and the distance between X and Ck multipy by weights\n",
        "  # This is the output of the network. \n",
        "  # Using single step learning, by every output for every trainig pattern, we \n",
        "  # call GD function to update the weights between RBF and output layers.\n",
        "  global m, k\n",
        "  output = np.zeros(m)\n",
        "  net = np.zeros(k)\n",
        "  fnet = np.zeros(k)\n",
        "  \n",
        "  for i in range(len(X)):\n",
        "    for j in range(len(c)):\n",
        "      net[j] = Euclidian(X[i], c[j])\n",
        "      # fnet is rk for each RBF neuron\n",
        "      fnet[j] = guassian(net[j], s[j])\n",
        "    output = np.dot(Weights, fnet)\n",
        "    Weights = GD(Y, i, output, Weights, fnet)\n",
        "  \n",
        "  return Weights\n",
        "\n",
        "  \n",
        "    \n",
        "  \n",
        "\n"
      ],
      "execution_count": null,
      "outputs": []
    },
    {
      "cell_type": "code",
      "metadata": {
        "id": "bod6zgEWC-ov"
      },
      "source": [
        "def GD(Y, i, output, weights, fnet):\n",
        "  global Learning_rate , All_error \n",
        "  # In this function, the weights are trained using delta-rule\n",
        "  # error = target - output\n",
        "  error =np.array(Y[i] - output)\n",
        "  All_error = np.linalg.norm(error) + All_error \n",
        "  if m > 1:\n",
        "    error = np.reshape(error, (m, 1))\n",
        "  # Delta_w = Learning_rate * (target - output) * rk\n",
        "  delta_w = Learning_rate * error * fnet\n",
        "  weights = weights + delta_w\n",
        "  return weights\n"
      ],
      "execution_count": null,
      "outputs": []
    },
    {
      "cell_type": "code",
      "metadata": {
        "id": "xbzdq51G622T"
      },
      "source": [
        "# Reading File 3\n",
        "df = pd.read_csv(\"PA-B_training_data_03.txt\", sep=\" \", header=None,skiprows=2)\n",
        "df1 = df.dropna(axis=1)\n",
        "df1.head()\n",
        "# Splitting dataset into training and testing\n",
        "mask = np.random.rand(len(df1)) <= 0.8\n",
        "training_data = df1[mask]\n",
        "testing_data = df1[~mask]\n",
        "\n",
        "X = training_data.iloc[:,:n].values\n",
        "Y = training_data.iloc[:,n:(n+m)].values\n",
        "\n",
        "X_test =  testing_data.iloc[:,:n].values\n",
        "Y_test = testing_data.iloc[:,n:(n+m)].values\n"
      ],
      "execution_count": null,
      "outputs": []
    },
    {
      "cell_type": "code",
      "metadata": {
        "id": "qUY8KuCus2nJ"
      },
      "source": [
        "# Reading File 4\n",
        "\n",
        "values = open('PA-B_training_data_04.txt').read().split()\n",
        "m = 1 #number of neurons in the last layer\n",
        "n = 2 #layers_number\n",
        "X, Y = [], []\n",
        "\n",
        "for i in range(6, len(values), 3):\n",
        "  X.append([values[i], values[i+1]])\n",
        "  Y.append(values[i+2])\n",
        "\n",
        "\n",
        "X = np.array(X).astype(np.float)\n",
        "Y = np.array(Y).astype(np.float)\n",
        "\n",
        "df_X = pd.DataFrame(X)\n",
        "df_Y = pd.DataFrame(Y)\n",
        "frames = [df_X, df_Y]\n",
        "df1 = pd.concat(frames , axis=1)\n",
        "df1.head()\n",
        "# Splitting dataset into training and testing\n",
        "mask = np.random.rand(len(df1)) <= 0.8\n",
        "training_data = df1[mask]\n",
        "testing_data = df1[~mask]\n",
        "\n",
        "X = training_data.iloc[:,:n].values\n",
        "Y = training_data.iloc[:,n:(n+m)].values\n",
        "\n",
        "X_test =  testing_data.iloc[:,:n].values\n",
        "Y_test = testing_data.iloc[:,n:(n+m)].values\n"
      ],
      "execution_count": null,
      "outputs": []
    },
    {
      "cell_type": "code",
      "metadata": {
        "id": "1U95e5y_4b8F",
        "colab": {
          "base_uri": "https://localhost:8080/",
          "height": 295
        },
        "outputId": "28b892d9-466e-4c48-c4de-ca81c471118e"
      },
      "source": [
        "# Initialize the network\n",
        "# Randomly select k Ck from dataset(X)\n",
        "indices = np.random.choice(X.shape[0], k , replace=False)\n",
        "c = X[indices]\n",
        "#print(c)\n",
        "# Randomly set Sk\n",
        "s = np.random.uniform(low = 1 , high = 2, size=k)\n",
        "\n",
        "# Generate initial weights with the same seed \n",
        "prng = RandomState(1)\n",
        "Weights = prng.uniform(low = -0.5 , high = 0.5, size=(m, k) )\n",
        "e=[] \n",
        "# Trainig the network w.r.t iteration and training dataset\n",
        "for j in range(iter):\n",
        "  All_error = 0\n",
        "  Weights = Feedforward(X, c, s, Weights)\n",
        "  All_error = All_error/len(X)\n",
        "  e.append(All_error)\n",
        "  # Writing Global Error on learning curve.txt\n",
        "  if j == 0:\n",
        "    f = open(\"learning curve.txt\", \"w\")\n",
        "    string = '#Eppoch' + '\\t' + '#Global_Error' + '\\n'\n",
        "    f.write(string)\n",
        "  else:\n",
        "    f = open(\"learning curve.txt\", \"a\")\n",
        "  string = str(j)+ '\\t' + str(All_error) + '\\n'\n",
        "  f.write(string)\n",
        "  f.close()\n",
        "  \n",
        "plt.plot(e, np.arange(iter), 'r')\n",
        "plt.xlabel(\"Epoch\")\n",
        "plt.ylabel(\"Global_Error\")\n",
        "plt.title(\"Learning Curve\")\n",
        "plt.show()\n"
      ],
      "execution_count": null,
      "outputs": [
        {
          "output_type": "display_data",
          "data": {
            "image/png": "[encoded data removed]",
            "text/plain": [
              "<Figure size 432x288 with 1 Axes>"
            ]
          },
          "metadata": {
            "needs_background": "light"
          }
        }
      ]
    },
    {
      "cell_type": "code",
      "metadata": {
        "colab": {
          "base_uri": "https://localhost:8080/"
        },
        "id": "jBkSYyMwfwLn",
        "outputId": "dc1ad1dc-3334-48a0-d549-b2f3a6eabd91"
      },
      "source": [
        "# Testing the network w.r.t testing dataset\n",
        "output = np.zeros(m)\n",
        "net = np.zeros(k)\n",
        "fnet = np.zeros(k)\n",
        "counter = 0\n",
        "for i in range(len(X_test)):\n",
        "  for j in range(len(c)):\n",
        "    net[j] = Euclidian(X_test[i], c[j])\n",
        "    # fnet is rk for each RBF neuron\n",
        "    fnet[j] = guassian(net[j], s[j])\n",
        "  output = np.dot(Weights, fnet)\n",
        "  if np.abs(np.sum(output-Y_test[i])/m)<0.5: counter += 1\n",
        "print((counter/len(X_test))*100)"
      ],
      "execution_count": null,
      "outputs": [
        {
          "output_type": "stream",
          "name": "stdout",
          "text": [
            "100.0\n"
          ]
        }
      ]
    }
  ]
}